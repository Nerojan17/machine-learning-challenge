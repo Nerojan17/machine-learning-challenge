{
 "cells": [
  {
   "cell_type": "code",
   "execution_count": 78,
   "metadata": {},
   "outputs": [],
   "source": [
    "import pandas as pd"
   ]
  },
  {
   "cell_type": "markdown",
   "metadata": {},
   "source": [
    "# Read the CSV and Perform Basic Data Cleaning"
   ]
  },
  {
   "cell_type": "code",
   "execution_count": 79,
   "metadata": {},
   "outputs": [
    {
     "data": {
      "text/html": [
       "<div>\n",
       "<style scoped>\n",
       "    .dataframe tbody tr th:only-of-type {\n",
       "        vertical-align: middle;\n",
       "    }\n",
       "\n",
       "    .dataframe tbody tr th {\n",
       "        vertical-align: top;\n",
       "    }\n",
       "\n",
       "    .dataframe thead th {\n",
       "        text-align: right;\n",
       "    }\n",
       "</style>\n",
       "<table border=\"1\" class=\"dataframe\">\n",
       "  <thead>\n",
       "    <tr style=\"text-align: right;\">\n",
       "      <th></th>\n",
       "      <th>koi_disposition</th>\n",
       "      <th>koi_fpflag_nt</th>\n",
       "      <th>koi_fpflag_ss</th>\n",
       "      <th>koi_fpflag_co</th>\n",
       "      <th>koi_fpflag_ec</th>\n",
       "      <th>koi_period</th>\n",
       "      <th>koi_period_err1</th>\n",
       "      <th>koi_period_err2</th>\n",
       "      <th>koi_time0bk</th>\n",
       "      <th>koi_time0bk_err1</th>\n",
       "      <th>...</th>\n",
       "      <th>koi_steff_err2</th>\n",
       "      <th>koi_slogg</th>\n",
       "      <th>koi_slogg_err1</th>\n",
       "      <th>koi_slogg_err2</th>\n",
       "      <th>koi_srad</th>\n",
       "      <th>koi_srad_err1</th>\n",
       "      <th>koi_srad_err2</th>\n",
       "      <th>ra</th>\n",
       "      <th>dec</th>\n",
       "      <th>koi_kepmag</th>\n",
       "    </tr>\n",
       "  </thead>\n",
       "  <tbody>\n",
       "    <tr>\n",
       "      <th>0</th>\n",
       "      <td>CONFIRMED</td>\n",
       "      <td>0</td>\n",
       "      <td>0</td>\n",
       "      <td>0</td>\n",
       "      <td>0</td>\n",
       "      <td>54.418383</td>\n",
       "      <td>2.479000e-04</td>\n",
       "      <td>-2.479000e-04</td>\n",
       "      <td>162.513840</td>\n",
       "      <td>0.003520</td>\n",
       "      <td>...</td>\n",
       "      <td>-81</td>\n",
       "      <td>4.467</td>\n",
       "      <td>0.064</td>\n",
       "      <td>-0.096</td>\n",
       "      <td>0.927</td>\n",
       "      <td>0.105</td>\n",
       "      <td>-0.061</td>\n",
       "      <td>291.93423</td>\n",
       "      <td>48.141651</td>\n",
       "      <td>15.347</td>\n",
       "    </tr>\n",
       "    <tr>\n",
       "      <th>1</th>\n",
       "      <td>FALSE POSITIVE</td>\n",
       "      <td>0</td>\n",
       "      <td>1</td>\n",
       "      <td>0</td>\n",
       "      <td>0</td>\n",
       "      <td>19.899140</td>\n",
       "      <td>1.490000e-05</td>\n",
       "      <td>-1.490000e-05</td>\n",
       "      <td>175.850252</td>\n",
       "      <td>0.000581</td>\n",
       "      <td>...</td>\n",
       "      <td>-176</td>\n",
       "      <td>4.544</td>\n",
       "      <td>0.044</td>\n",
       "      <td>-0.176</td>\n",
       "      <td>0.868</td>\n",
       "      <td>0.233</td>\n",
       "      <td>-0.078</td>\n",
       "      <td>297.00482</td>\n",
       "      <td>48.134129</td>\n",
       "      <td>15.436</td>\n",
       "    </tr>\n",
       "    <tr>\n",
       "      <th>2</th>\n",
       "      <td>FALSE POSITIVE</td>\n",
       "      <td>0</td>\n",
       "      <td>1</td>\n",
       "      <td>0</td>\n",
       "      <td>0</td>\n",
       "      <td>1.736952</td>\n",
       "      <td>2.630000e-07</td>\n",
       "      <td>-2.630000e-07</td>\n",
       "      <td>170.307565</td>\n",
       "      <td>0.000115</td>\n",
       "      <td>...</td>\n",
       "      <td>-174</td>\n",
       "      <td>4.564</td>\n",
       "      <td>0.053</td>\n",
       "      <td>-0.168</td>\n",
       "      <td>0.791</td>\n",
       "      <td>0.201</td>\n",
       "      <td>-0.067</td>\n",
       "      <td>285.53461</td>\n",
       "      <td>48.285210</td>\n",
       "      <td>15.597</td>\n",
       "    </tr>\n",
       "    <tr>\n",
       "      <th>3</th>\n",
       "      <td>CONFIRMED</td>\n",
       "      <td>0</td>\n",
       "      <td>0</td>\n",
       "      <td>0</td>\n",
       "      <td>0</td>\n",
       "      <td>2.525592</td>\n",
       "      <td>3.760000e-06</td>\n",
       "      <td>-3.760000e-06</td>\n",
       "      <td>171.595550</td>\n",
       "      <td>0.001130</td>\n",
       "      <td>...</td>\n",
       "      <td>-211</td>\n",
       "      <td>4.438</td>\n",
       "      <td>0.070</td>\n",
       "      <td>-0.210</td>\n",
       "      <td>1.046</td>\n",
       "      <td>0.334</td>\n",
       "      <td>-0.133</td>\n",
       "      <td>288.75488</td>\n",
       "      <td>48.226200</td>\n",
       "      <td>15.509</td>\n",
       "    </tr>\n",
       "    <tr>\n",
       "      <th>4</th>\n",
       "      <td>CONFIRMED</td>\n",
       "      <td>0</td>\n",
       "      <td>0</td>\n",
       "      <td>0</td>\n",
       "      <td>0</td>\n",
       "      <td>4.134435</td>\n",
       "      <td>1.050000e-05</td>\n",
       "      <td>-1.050000e-05</td>\n",
       "      <td>172.979370</td>\n",
       "      <td>0.001900</td>\n",
       "      <td>...</td>\n",
       "      <td>-232</td>\n",
       "      <td>4.486</td>\n",
       "      <td>0.054</td>\n",
       "      <td>-0.229</td>\n",
       "      <td>0.972</td>\n",
       "      <td>0.315</td>\n",
       "      <td>-0.105</td>\n",
       "      <td>296.28613</td>\n",
       "      <td>48.224670</td>\n",
       "      <td>15.714</td>\n",
       "    </tr>\n",
       "  </tbody>\n",
       "</table>\n",
       "<p>5 rows × 41 columns</p>\n",
       "</div>"
      ],
      "text/plain": [
       "  koi_disposition  koi_fpflag_nt  koi_fpflag_ss  koi_fpflag_co  koi_fpflag_ec  \\\n",
       "0       CONFIRMED              0              0              0              0   \n",
       "1  FALSE POSITIVE              0              1              0              0   \n",
       "2  FALSE POSITIVE              0              1              0              0   \n",
       "3       CONFIRMED              0              0              0              0   \n",
       "4       CONFIRMED              0              0              0              0   \n",
       "\n",
       "   koi_period  koi_period_err1  koi_period_err2  koi_time0bk  \\\n",
       "0   54.418383     2.479000e-04    -2.479000e-04   162.513840   \n",
       "1   19.899140     1.490000e-05    -1.490000e-05   175.850252   \n",
       "2    1.736952     2.630000e-07    -2.630000e-07   170.307565   \n",
       "3    2.525592     3.760000e-06    -3.760000e-06   171.595550   \n",
       "4    4.134435     1.050000e-05    -1.050000e-05   172.979370   \n",
       "\n",
       "   koi_time0bk_err1  ...  koi_steff_err2  koi_slogg  koi_slogg_err1  \\\n",
       "0          0.003520  ...             -81      4.467           0.064   \n",
       "1          0.000581  ...            -176      4.544           0.044   \n",
       "2          0.000115  ...            -174      4.564           0.053   \n",
       "3          0.001130  ...            -211      4.438           0.070   \n",
       "4          0.001900  ...            -232      4.486           0.054   \n",
       "\n",
       "   koi_slogg_err2  koi_srad  koi_srad_err1  koi_srad_err2         ra  \\\n",
       "0          -0.096     0.927          0.105         -0.061  291.93423   \n",
       "1          -0.176     0.868          0.233         -0.078  297.00482   \n",
       "2          -0.168     0.791          0.201         -0.067  285.53461   \n",
       "3          -0.210     1.046          0.334         -0.133  288.75488   \n",
       "4          -0.229     0.972          0.315         -0.105  296.28613   \n",
       "\n",
       "         dec  koi_kepmag  \n",
       "0  48.141651      15.347  \n",
       "1  48.134129      15.436  \n",
       "2  48.285210      15.597  \n",
       "3  48.226200      15.509  \n",
       "4  48.224670      15.714  \n",
       "\n",
       "[5 rows x 41 columns]"
      ]
     },
     "execution_count": 79,
     "metadata": {},
     "output_type": "execute_result"
    }
   ],
   "source": [
    "df = pd.read_csv(\"exoplanet_data.csv\")\n",
    "df = df.dropna(axis='columns', how='all')\n",
    "df = df.dropna()\n",
    "df.head()"
   ]
  },
  {
   "cell_type": "code",
   "execution_count": 80,
   "metadata": {},
   "outputs": [],
   "source": [
    "df2 = df.drop(df[df.koi_disposition == \"CANDIDATE\"].index)\n"
   ]
  },
  {
   "cell_type": "markdown",
   "metadata": {},
   "source": [
    "# Create X adn y"
   ]
  },
  {
   "cell_type": "code",
   "execution_count": 81,
   "metadata": {},
   "outputs": [],
   "source": [
    "X = df2.drop(\"koi_disposition\", 1)\n",
    "y = df2[\"koi_disposition\"]"
   ]
  },
  {
   "cell_type": "markdown",
   "metadata": {},
   "source": [
    "# Create a Train Test Split\n"
   ]
  },
  {
   "cell_type": "code",
   "execution_count": 82,
   "metadata": {},
   "outputs": [],
   "source": [
    "from sklearn.model_selection import train_test_split\n",
    "X_train, X_test, y_train, y_test = train_test_split(X, y, random_state=42)"
   ]
  },
  {
   "cell_type": "code",
   "execution_count": 83,
   "metadata": {},
   "outputs": [
    {
     "data": {
      "text/html": [
       "<div>\n",
       "<style scoped>\n",
       "    .dataframe tbody tr th:only-of-type {\n",
       "        vertical-align: middle;\n",
       "    }\n",
       "\n",
       "    .dataframe tbody tr th {\n",
       "        vertical-align: top;\n",
       "    }\n",
       "\n",
       "    .dataframe thead th {\n",
       "        text-align: right;\n",
       "    }\n",
       "</style>\n",
       "<table border=\"1\" class=\"dataframe\">\n",
       "  <thead>\n",
       "    <tr style=\"text-align: right;\">\n",
       "      <th></th>\n",
       "      <th>koi_fpflag_nt</th>\n",
       "      <th>koi_fpflag_ss</th>\n",
       "      <th>koi_fpflag_co</th>\n",
       "      <th>koi_fpflag_ec</th>\n",
       "      <th>koi_period</th>\n",
       "      <th>koi_period_err1</th>\n",
       "      <th>koi_period_err2</th>\n",
       "      <th>koi_time0bk</th>\n",
       "      <th>koi_time0bk_err1</th>\n",
       "      <th>koi_time0bk_err2</th>\n",
       "      <th>...</th>\n",
       "      <th>koi_steff_err2</th>\n",
       "      <th>koi_slogg</th>\n",
       "      <th>koi_slogg_err1</th>\n",
       "      <th>koi_slogg_err2</th>\n",
       "      <th>koi_srad</th>\n",
       "      <th>koi_srad_err1</th>\n",
       "      <th>koi_srad_err2</th>\n",
       "      <th>ra</th>\n",
       "      <th>dec</th>\n",
       "      <th>koi_kepmag</th>\n",
       "    </tr>\n",
       "  </thead>\n",
       "  <tbody>\n",
       "    <tr>\n",
       "      <th>979</th>\n",
       "      <td>0</td>\n",
       "      <td>1</td>\n",
       "      <td>1</td>\n",
       "      <td>1</td>\n",
       "      <td>41.077297</td>\n",
       "      <td>1.985000e-04</td>\n",
       "      <td>-1.985000e-04</td>\n",
       "      <td>379.128480</td>\n",
       "      <td>0.003110</td>\n",
       "      <td>-0.003110</td>\n",
       "      <td>...</td>\n",
       "      <td>-189</td>\n",
       "      <td>4.381</td>\n",
       "      <td>0.195</td>\n",
       "      <td>-0.214</td>\n",
       "      <td>0.938</td>\n",
       "      <td>0.263</td>\n",
       "      <td>-0.197</td>\n",
       "      <td>289.07703</td>\n",
       "      <td>51.761822</td>\n",
       "      <td>14.907</td>\n",
       "    </tr>\n",
       "    <tr>\n",
       "      <th>6201</th>\n",
       "      <td>0</td>\n",
       "      <td>1</td>\n",
       "      <td>0</td>\n",
       "      <td>0</td>\n",
       "      <td>13.639480</td>\n",
       "      <td>1.970000e-06</td>\n",
       "      <td>-1.970000e-06</td>\n",
       "      <td>144.531439</td>\n",
       "      <td>0.000123</td>\n",
       "      <td>-0.000123</td>\n",
       "      <td>...</td>\n",
       "      <td>-164</td>\n",
       "      <td>4.517</td>\n",
       "      <td>0.060</td>\n",
       "      <td>-0.140</td>\n",
       "      <td>0.846</td>\n",
       "      <td>0.184</td>\n",
       "      <td>-0.085</td>\n",
       "      <td>292.21732</td>\n",
       "      <td>49.707901</td>\n",
       "      <td>15.852</td>\n",
       "    </tr>\n",
       "    <tr>\n",
       "      <th>5648</th>\n",
       "      <td>0</td>\n",
       "      <td>1</td>\n",
       "      <td>0</td>\n",
       "      <td>0</td>\n",
       "      <td>14.854416</td>\n",
       "      <td>7.890000e-07</td>\n",
       "      <td>-7.890000e-07</td>\n",
       "      <td>136.559783</td>\n",
       "      <td>0.000044</td>\n",
       "      <td>-0.000044</td>\n",
       "      <td>...</td>\n",
       "      <td>-197</td>\n",
       "      <td>4.444</td>\n",
       "      <td>0.070</td>\n",
       "      <td>-0.224</td>\n",
       "      <td>1.022</td>\n",
       "      <td>0.350</td>\n",
       "      <td>-0.117</td>\n",
       "      <td>282.42578</td>\n",
       "      <td>43.884331</td>\n",
       "      <td>14.558</td>\n",
       "    </tr>\n",
       "    <tr>\n",
       "      <th>229</th>\n",
       "      <td>0</td>\n",
       "      <td>0</td>\n",
       "      <td>0</td>\n",
       "      <td>0</td>\n",
       "      <td>10.681695</td>\n",
       "      <td>5.170000e-05</td>\n",
       "      <td>-5.170000e-05</td>\n",
       "      <td>131.550820</td>\n",
       "      <td>0.003720</td>\n",
       "      <td>-0.003720</td>\n",
       "      <td>...</td>\n",
       "      <td>0</td>\n",
       "      <td>4.221</td>\n",
       "      <td>0.188</td>\n",
       "      <td>-0.101</td>\n",
       "      <td>1.250</td>\n",
       "      <td>0.196</td>\n",
       "      <td>-0.240</td>\n",
       "      <td>292.58044</td>\n",
       "      <td>46.097389</td>\n",
       "      <td>15.065</td>\n",
       "    </tr>\n",
       "    <tr>\n",
       "      <th>1302</th>\n",
       "      <td>0</td>\n",
       "      <td>0</td>\n",
       "      <td>0</td>\n",
       "      <td>0</td>\n",
       "      <td>12.509458</td>\n",
       "      <td>7.470000e-05</td>\n",
       "      <td>-7.470000e-05</td>\n",
       "      <td>136.992170</td>\n",
       "      <td>0.004600</td>\n",
       "      <td>-0.004600</td>\n",
       "      <td>...</td>\n",
       "      <td>-119</td>\n",
       "      <td>4.303</td>\n",
       "      <td>0.120</td>\n",
       "      <td>-0.108</td>\n",
       "      <td>1.184</td>\n",
       "      <td>0.183</td>\n",
       "      <td>-0.165</td>\n",
       "      <td>295.42200</td>\n",
       "      <td>38.735691</td>\n",
       "      <td>13.860</td>\n",
       "    </tr>\n",
       "  </tbody>\n",
       "</table>\n",
       "<p>5 rows × 40 columns</p>\n",
       "</div>"
      ],
      "text/plain": [
       "      koi_fpflag_nt  koi_fpflag_ss  koi_fpflag_co  koi_fpflag_ec  koi_period  \\\n",
       "979               0              1              1              1   41.077297   \n",
       "6201              0              1              0              0   13.639480   \n",
       "5648              0              1              0              0   14.854416   \n",
       "229               0              0              0              0   10.681695   \n",
       "1302              0              0              0              0   12.509458   \n",
       "\n",
       "      koi_period_err1  koi_period_err2  koi_time0bk  koi_time0bk_err1  \\\n",
       "979      1.985000e-04    -1.985000e-04   379.128480          0.003110   \n",
       "6201     1.970000e-06    -1.970000e-06   144.531439          0.000123   \n",
       "5648     7.890000e-07    -7.890000e-07   136.559783          0.000044   \n",
       "229      5.170000e-05    -5.170000e-05   131.550820          0.003720   \n",
       "1302     7.470000e-05    -7.470000e-05   136.992170          0.004600   \n",
       "\n",
       "      koi_time0bk_err2  ...  koi_steff_err2  koi_slogg  koi_slogg_err1  \\\n",
       "979          -0.003110  ...            -189      4.381           0.195   \n",
       "6201         -0.000123  ...            -164      4.517           0.060   \n",
       "5648         -0.000044  ...            -197      4.444           0.070   \n",
       "229          -0.003720  ...               0      4.221           0.188   \n",
       "1302         -0.004600  ...            -119      4.303           0.120   \n",
       "\n",
       "      koi_slogg_err2  koi_srad  koi_srad_err1  koi_srad_err2         ra  \\\n",
       "979           -0.214     0.938          0.263         -0.197  289.07703   \n",
       "6201          -0.140     0.846          0.184         -0.085  292.21732   \n",
       "5648          -0.224     1.022          0.350         -0.117  282.42578   \n",
       "229           -0.101     1.250          0.196         -0.240  292.58044   \n",
       "1302          -0.108     1.184          0.183         -0.165  295.42200   \n",
       "\n",
       "            dec  koi_kepmag  \n",
       "979   51.761822      14.907  \n",
       "6201  49.707901      15.852  \n",
       "5648  43.884331      14.558  \n",
       "229   46.097389      15.065  \n",
       "1302  38.735691      13.860  \n",
       "\n",
       "[5 rows x 40 columns]"
      ]
     },
     "execution_count": 83,
     "metadata": {},
     "output_type": "execute_result"
    }
   ],
   "source": [
    "X_train.head()"
   ]
  },
  {
   "cell_type": "markdown",
   "metadata": {},
   "source": [
    "# Pre-processing\n",
    "\n",
    "Scale the data using the MinMaxScaler and perform some feature selection"
   ]
  },
  {
   "cell_type": "code",
   "execution_count": 84,
   "metadata": {},
   "outputs": [],
   "source": [
    "# Scale your data\n",
    "from sklearn.preprocessing import MinMaxScaler\n",
    "X_minmax = MinMaxScaler().fit(X_train)\n",
    "\n",
    "\n",
    "X_train_minmax = X_minmax.transform(X_train)\n",
    "X_test_minmax = X_minmax.transform(X_test)\n"
   ]
  },
  {
   "cell_type": "markdown",
   "metadata": {},
   "source": [
    "# Train the Model and use REFCV to use optimal features\n",
    "\n",
    "\n"
   ]
  },
  {
   "cell_type": "code",
   "execution_count": 85,
   "metadata": {},
   "outputs": [
    {
     "name": "stdout",
     "output_type": "stream",
     "text": [
      "Training Data Score: 1.0\n",
      "Testing Data Score: 0.973604826546003\n"
     ]
    }
   ],
   "source": [
    "from sklearn.ensemble import RandomForestClassifier\n",
    "from sklearn.feature_selection import RFECV\n",
    "\n",
    "\n",
    "rf = RandomForestClassifier(n_estimators=200)\n",
    "\n",
    "selector = RFECV(rf, step=1)\n",
    "selector = selector.fit(X_train_minmax, y_train)\n",
    "\n",
    "\n",
    "print(f\"Training Data Score: {selector.score(X_train_minmax, y_train)}\")\n",
    "print(f\"Testing Data Score: {selector.score(X_test_minmax, y_test)}\")"
   ]
  },
  {
   "cell_type": "code",
   "execution_count": 87,
   "metadata": {},
   "outputs": [
    {
     "data": {
      "text/plain": [
       "array([ 1,  1,  1,  2,  1,  9, 10, 16,  6,  1,  7, 20, 24, 15,  1,  1,  8,\n",
       "       12, 13,  1,  1,  1,  1,  5,  1, 11,  3, 27, 23,  1,  1, 19, 25, 14,\n",
       "       17,  4, 21, 18, 26, 22])"
      ]
     },
     "execution_count": 87,
     "metadata": {},
     "output_type": "execute_result"
    }
   ],
   "source": [
    "selector.ranking_"
   ]
  },
  {
   "cell_type": "markdown",
   "metadata": {},
   "source": [
    "# Hyperparameter Tuning\n",
    "\n",
    "Use `GridSearchCV` to tune the model's parameters"
   ]
  },
  {
   "cell_type": "code",
   "execution_count": 107,
   "metadata": {},
   "outputs": [],
   "source": [
    "# Create the GridSearchCV model\n",
    "\n",
    "from sklearn.model_selection import GridSearchCV\n",
    "param_grid = {'estimator__criterion': [\"gini\", \"entropy\"],\n",
    "             \"estimator__ccp_alpha\" : [0, 0.005],\n",
    "             }\n",
    "\n",
    "grid = GridSearchCV(selector, param_grid, verbose=3)"
   ]
  },
  {
   "cell_type": "code",
   "execution_count": 108,
   "metadata": {},
   "outputs": [
    {
     "name": "stdout",
     "output_type": "stream",
     "text": [
      "Fitting 5 folds for each of 4 candidates, totalling 20 fits\n",
      "[CV] estimator__ccp_alpha=0, estimator__criterion=gini ...............\n"
     ]
    },
    {
     "name": "stderr",
     "output_type": "stream",
     "text": [
      "[Parallel(n_jobs=1)]: Using backend SequentialBackend with 1 concurrent workers.\n"
     ]
    },
    {
     "name": "stdout",
     "output_type": "stream",
     "text": [
      "[CV]  estimator__ccp_alpha=0, estimator__criterion=gini, score=0.986, total= 3.9min\n",
      "[CV] estimator__ccp_alpha=0, estimator__criterion=gini ...............\n"
     ]
    },
    {
     "name": "stderr",
     "output_type": "stream",
     "text": [
      "[Parallel(n_jobs=1)]: Done   1 out of   1 | elapsed:  3.9min remaining:    0.0s\n"
     ]
    },
    {
     "name": "stdout",
     "output_type": "stream",
     "text": [
      "[CV]  estimator__ccp_alpha=0, estimator__criterion=gini, score=0.991, total= 3.8min\n",
      "[CV] estimator__ccp_alpha=0, estimator__criterion=gini ...............\n"
     ]
    },
    {
     "name": "stderr",
     "output_type": "stream",
     "text": [
      "[Parallel(n_jobs=1)]: Done   2 out of   2 | elapsed:  7.6min remaining:    0.0s\n"
     ]
    },
    {
     "name": "stdout",
     "output_type": "stream",
     "text": [
      "[CV]  estimator__ccp_alpha=0, estimator__criterion=gini, score=0.987, total= 3.8min\n",
      "[CV] estimator__ccp_alpha=0, estimator__criterion=gini ...............\n",
      "[CV]  estimator__ccp_alpha=0, estimator__criterion=gini, score=0.991, total= 3.8min\n",
      "[CV] estimator__ccp_alpha=0, estimator__criterion=gini ...............\n",
      "[CV]  estimator__ccp_alpha=0, estimator__criterion=gini, score=0.986, total= 3.7min\n",
      "[CV] estimator__ccp_alpha=0, estimator__criterion=entropy ............\n",
      "[CV]  estimator__ccp_alpha=0, estimator__criterion=entropy, score=0.989, total= 4.5min\n",
      "[CV] estimator__ccp_alpha=0, estimator__criterion=entropy ............\n",
      "[CV]  estimator__ccp_alpha=0, estimator__criterion=entropy, score=0.992, total= 4.4min\n",
      "[CV] estimator__ccp_alpha=0, estimator__criterion=entropy ............\n",
      "[CV]  estimator__ccp_alpha=0, estimator__criterion=entropy, score=0.990, total= 4.4min\n",
      "[CV] estimator__ccp_alpha=0, estimator__criterion=entropy ............\n",
      "[CV]  estimator__ccp_alpha=0, estimator__criterion=entropy, score=0.994, total= 4.6min\n",
      "[CV] estimator__ccp_alpha=0, estimator__criterion=entropy ............\n",
      "[CV]  estimator__ccp_alpha=0, estimator__criterion=entropy, score=0.989, total= 4.4min\n",
      "[CV] estimator__ccp_alpha=0.005, estimator__criterion=gini ...........\n",
      "[CV]  estimator__ccp_alpha=0.005, estimator__criterion=gini, score=0.974, total= 4.1min\n",
      "[CV] estimator__ccp_alpha=0.005, estimator__criterion=gini ...........\n",
      "[CV]  estimator__ccp_alpha=0.005, estimator__criterion=gini, score=0.979, total= 3.8min\n",
      "[CV] estimator__ccp_alpha=0.005, estimator__criterion=gini ...........\n",
      "[CV]  estimator__ccp_alpha=0.005, estimator__criterion=gini, score=0.975, total= 4.7min\n",
      "[CV] estimator__ccp_alpha=0.005, estimator__criterion=gini ...........\n",
      "[CV]  estimator__ccp_alpha=0.005, estimator__criterion=gini, score=0.990, total= 4.5min\n",
      "[CV] estimator__ccp_alpha=0.005, estimator__criterion=gini ...........\n",
      "[CV]  estimator__ccp_alpha=0.005, estimator__criterion=gini, score=0.980, total= 4.1min\n",
      "[CV] estimator__ccp_alpha=0.005, estimator__criterion=entropy ........\n",
      "[CV]  estimator__ccp_alpha=0.005, estimator__criterion=entropy, score=0.981, total= 5.3min\n",
      "[CV] estimator__ccp_alpha=0.005, estimator__criterion=entropy ........\n",
      "[CV]  estimator__ccp_alpha=0.005, estimator__criterion=entropy, score=0.987, total= 5.3min\n",
      "[CV] estimator__ccp_alpha=0.005, estimator__criterion=entropy ........\n",
      "[CV]  estimator__ccp_alpha=0.005, estimator__criterion=entropy, score=0.991, total= 5.2min\n",
      "[CV] estimator__ccp_alpha=0.005, estimator__criterion=entropy ........\n",
      "[CV]  estimator__ccp_alpha=0.005, estimator__criterion=entropy, score=0.992, total= 4.8min\n",
      "[CV] estimator__ccp_alpha=0.005, estimator__criterion=entropy ........\n",
      "[CV]  estimator__ccp_alpha=0.005, estimator__criterion=entropy, score=0.986, total= 5.2min\n"
     ]
    },
    {
     "name": "stderr",
     "output_type": "stream",
     "text": [
      "[Parallel(n_jobs=1)]: Done  20 out of  20 | elapsed: 88.2min finished\n"
     ]
    },
    {
     "data": {
      "text/plain": [
       "GridSearchCV(estimator=RFECV(estimator=RandomForestClassifier(n_estimators=200)),\n",
       "             param_grid={'estimator__ccp_alpha': [0, 0.005],\n",
       "                         'estimator__criterion': ['gini', 'entropy']},\n",
       "             verbose=3)"
      ]
     },
     "execution_count": 108,
     "metadata": {},
     "output_type": "execute_result"
    }
   ],
   "source": [
    "# Train the model with GridSearch\n",
    "grid.fit(X_train_minmax, y_train)"
   ]
  },
  {
   "cell_type": "code",
   "execution_count": 109,
   "metadata": {},
   "outputs": [
    {
     "name": "stdout",
     "output_type": "stream",
     "text": [
      "{'estimator__ccp_alpha': 0, 'estimator__criterion': 'entropy'}\n",
      "0.9906990929490218\n"
     ]
    }
   ],
   "source": [
    "print(grid.best_params_)\n",
    "print(grid.best_score_)"
   ]
  },
  {
   "cell_type": "code",
   "execution_count": 121,
   "metadata": {},
   "outputs": [
    {
     "data": {
      "text/plain": [
       "0.9849170437405732"
      ]
     },
     "execution_count": 121,
     "metadata": {},
     "output_type": "execute_result"
    }
   ],
   "source": [
    "grid.score(X_test_minmax, y_test)"
   ]
  },
  {
   "cell_type": "code",
   "execution_count": 122,
   "metadata": {},
   "outputs": [],
   "source": [
    "predictions = grid.predict(X_test_minmax)"
   ]
  },
  {
   "cell_type": "code",
   "execution_count": 123,
   "metadata": {},
   "outputs": [
    {
     "name": "stdout",
     "output_type": "stream",
     "text": [
      "                precision    recall  f1-score   support\n",
      "\n",
      "     CONFIRMED       1.00      0.96      0.98       451\n",
      "FALSE POSITIVE       0.98      1.00      0.99       875\n",
      "\n",
      "      accuracy                           0.98      1326\n",
      "     macro avg       0.99      0.98      0.98      1326\n",
      "  weighted avg       0.99      0.98      0.98      1326\n",
      "\n"
     ]
    }
   ],
   "source": [
    "from sklearn.metrics import classification_report\n",
    "print(classification_report(y_test, predictions))"
   ]
  },
  {
   "cell_type": "code",
   "execution_count": 127,
   "metadata": {},
   "outputs": [
    {
     "data": {
      "image/png": "[encoded data removed]",
      "text/plain": [
       "<Figure size 432x288 with 2 Axes>"
      ]
     },
     "metadata": {
      "needs_background": "light"
     },
     "output_type": "display_data"
    }
   ],
   "source": [
    "from sklearn.metrics import plot_confusion_matrix\n",
    "\n",
    "disp = plot_confusion_matrix(grid, X_test_minmax, y_test, cmap=plt.cm.Blues, normalize=\"true\")"
   ]
  },
  {
   "cell_type": "markdown",
   "metadata": {},
   "source": [
    "# Save the Model"
   ]
  },
  {
   "cell_type": "code",
   "execution_count": 115,
   "metadata": {},
   "outputs": [
    {
     "data": {
      "text/plain": [
       "['Random_Forest_Model.sav']"
      ]
     },
     "execution_count": 115,
     "metadata": {},
     "output_type": "execute_result"
    }
   ],
   "source": [
    "# save your model by updating \"your_name\" with your name\n",
    "# and \"your_model\" with your model variable\n",
    "# be sure to turn this in to BCS\n",
    "# if joblib fails to import, try running the command to install in terminal/git-bash\n",
    "import joblib\n",
    "filename = 'Random_Forest_Model.sav'\n",
    "joblib.dump(selector, filename)"
   ]
  }
 ],
 "metadata": {
  "kernel_info": {
   "name": "dev"
  },
  "kernelspec": {
   "display_name": "Python 3",
   "language": "python",
   "name": "python3"
  },
  "language_info": {
   "codemirror_mode": {
    "name": "ipython",
    "version": 3
   },
   "file_extension": ".py",
   "mimetype": "text/x-python",
   "name": "python",
   "nbconvert_exporter": "python",
   "pygments_lexer": "ipython3",
   "version": "3.6.10"
  },
  "nteract": {
   "version": "0.12.3"
  }
 },
 "nbformat": 4,
 "nbformat_minor": 2
}
